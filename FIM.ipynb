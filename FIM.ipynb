{
 "cells": [
  {
   "cell_type": "code",
   "execution_count": 1,
   "id": "f17ccd2d",
   "metadata": {},
   "outputs": [],
   "source": [
    "import torch\n",
    "import torch.nn as nn\n",
    "import torch.optim as optim"
   ]
  },
  {
   "cell_type": "markdown",
   "id": "f2b5f803",
   "metadata": {},
   "source": [
    "### Sample linear layer"
   ]
  },
  {
   "cell_type": "code",
   "execution_count": 2,
   "id": "6eb54b7c",
   "metadata": {},
   "outputs": [],
   "source": [
    "class SimpleNN(nn.Module):\n",
    "    def __init__(self):\n",
    "        super(SimpleNN, self).__init__()\n",
    "        self.fc = nn.Linear(5, 3)  # Input size 5, Output size 3\n",
    "        self.activation = nn.ReLU()\n",
    "    def forward(self, x):\n",
    "        fc_out = self.fc(x)\n",
    "        return self.activation(fc_out)"
   ]
  },
  {
   "cell_type": "code",
   "execution_count": null,
   "id": "ee467860",
   "metadata": {},
   "outputs": [],
   "source": [
    "# Dummy input\n",
    "\n",
    "input_tensor = torch.randn(10, 5, requires_grad=True) # Batch size 10, Input size 5\n",
    "target = torch.randn(10, 3)  # Target size matching the output size\n",
    "model = SimpleNN()"
   ]
  },
  {
   "cell_type": "code",
   "execution_count": 4,
   "id": "4251cc2d",
   "metadata": {},
   "outputs": [],
   "source": [
    "activations = model(input_tensor)"
   ]
  },
  {
   "cell_type": "code",
   "execution_count": null,
   "id": "be927994",
   "metadata": {},
   "outputs": [],
   "source": [
    "loss_fn = nn.MSELoss()\n",
    "loss = loss_fn(activations, target)\n",
    "activations.retain_grad()   # Needed to access gradients of intermediates\n",
    "loss.backward()  # Compute gradients"
   ]
  },
  {
   "cell_type": "markdown",
   "id": "6ede5042",
   "metadata": {},
   "source": [
    "### Calculate covariance matrix of activations and gradients"
   ]
  },
  {
   "cell_type": "code",
   "execution_count": 6,
   "id": "e14b4469",
   "metadata": {},
   "outputs": [],
   "source": [
    "layer_input = input_tensor.detach()  # This is the input to the fc layer\n",
    "activation_mean = layer_input.mean(dim=0, keepdim=True)\n",
    "A_KFAC = layer_input - activation_mean  # Centered activations\n",
    "A_KFAC = A_KFAC.T @ A_KFAC / (activations.size(0) - 1)  # Covariance matrix"
   ]
  },
  {
   "cell_type": "code",
   "execution_count": null,
   "id": "0487cf60",
   "metadata": {},
   "outputs": [],
   "source": [
    "gradients = activations.grad   # Gradient wrt layer output after activation\n",
    "gradient_mean = gradients.mean(dim=0, keepdim=True)\n",
    "B_KFAC = gradients - gradient_mean  # Centered gradients\n",
    "B_KFAC = B_KFAC.T @ B_KFAC / (gradients.size(0) - 1)  # Covariance matrix"
   ]
  },
  {
   "cell_type": "markdown",
   "id": "96255b5c",
   "metadata": {},
   "source": [
    "### Compute FIM using K-FAC"
   ]
  },
  {
   "cell_type": "code",
   "execution_count": 8,
   "id": "d51c8675",
   "metadata": {},
   "outputs": [],
   "source": [
    "F = torch.kron(A_KFAC, B_KFAC)"
   ]
  },
  {
   "cell_type": "code",
   "execution_count": 9,
   "id": "528eb4fd",
   "metadata": {},
   "outputs": [
    {
     "name": "stdout",
     "output_type": "stream",
     "text": [
      "Covariance Matrix of Activations (A_KFAC):\n",
      "tensor([[ 5.2808e-01, -6.2417e-01, -8.4895e-02, -6.5382e-02,  2.1640e-01],\n",
      "        [-6.2417e-01,  1.4291e+00, -6.8364e-04, -3.7937e-01, -2.6783e-01],\n",
      "        [-8.4895e-02, -6.8364e-04,  8.6800e-01,  5.2422e-01, -2.3668e-02],\n",
      "        [-6.5382e-02, -3.7937e-01,  5.2422e-01,  6.3217e-01, -3.0087e-02],\n",
      "        [ 2.1640e-01, -2.6783e-01, -2.3668e-02, -3.0087e-02,  3.7295e-01]])\n",
      "\n",
      "Covariance Matrix of Gradients (B_KFAC):\n",
      "tensor([[ 0.0052, -0.0001, -0.0014],\n",
      "        [-0.0001,  0.0067, -0.0015],\n",
      "        [-0.0014, -0.0015,  0.0083]])\n",
      "\n",
      "Kronecker product F:\n",
      "tensor([[ 2.7638e-03, -7.0235e-05, -7.2501e-04, -3.2667e-03,  8.3015e-05,\n",
      "          8.5693e-04, -4.4431e-04,  1.1291e-05,  1.1655e-04, -3.4219e-04,\n",
      "          8.6959e-06,  8.9764e-05,  1.1326e-03, -2.8781e-05, -2.9710e-04],\n",
      "        [-7.0235e-05,  3.5560e-03, -8.0745e-04,  8.3015e-05, -4.2030e-03,\n",
      "          9.5437e-04,  1.1291e-05, -5.7166e-04,  1.2981e-04,  8.6959e-06,\n",
      "         -4.4027e-04,  9.9971e-05, -2.8781e-05,  1.4572e-03, -3.3088e-04],\n",
      "        [-7.2501e-04, -8.0745e-04,  4.3617e-03,  8.5693e-04,  9.5437e-04,\n",
      "         -5.1554e-03,  1.1655e-04,  1.2981e-04, -7.0120e-04,  8.9764e-05,\n",
      "          9.9971e-05, -5.4003e-04, -2.9710e-04, -3.3088e-04,  1.7874e-03],\n",
      "        [-3.2667e-03,  8.3015e-05,  8.5693e-04,  7.4793e-03, -1.9007e-04,\n",
      "         -1.9620e-03, -3.5779e-06,  9.0925e-08,  9.3858e-07, -1.9855e-03,\n",
      "          5.0456e-05,  5.2084e-04, -1.4018e-03,  3.5622e-05,  3.6771e-04],\n",
      "        [ 8.3015e-05, -4.2030e-03,  9.5437e-04, -1.9007e-04,  9.6230e-03,\n",
      "         -2.1851e-03,  9.0925e-08, -4.6034e-06,  1.0453e-06,  5.0456e-05,\n",
      "         -2.5546e-03,  5.8007e-04,  3.5622e-05, -1.8035e-03,  4.0953e-04],\n",
      "        [ 8.5693e-04,  9.5437e-04, -5.1554e-03, -1.9620e-03, -2.1851e-03,\n",
      "          1.1804e-02,  9.3858e-07,  1.0453e-06, -5.6466e-06,  5.2084e-04,\n",
      "          5.8007e-04, -3.1334e-03,  3.6771e-04,  4.0953e-04, -2.2122e-03],\n",
      "        [-4.4431e-04,  1.1291e-05,  1.1655e-04, -3.5779e-06,  9.0925e-08,\n",
      "          9.3858e-07,  4.5428e-03, -1.1544e-04, -1.1917e-03,  2.7436e-03,\n",
      "         -6.9721e-05, -7.1971e-04, -1.2387e-04,  3.1478e-06,  3.2494e-05],\n",
      "        [ 1.1291e-05, -5.7166e-04,  1.2981e-04,  9.0925e-08, -4.6034e-06,\n",
      "          1.0453e-06, -1.1544e-04,  5.8449e-03, -1.3272e-03, -6.9721e-05,\n",
      "          3.5299e-03, -8.0154e-04,  3.1478e-06, -1.5937e-04,  3.6189e-05],\n",
      "        [ 1.1655e-04,  1.2981e-04, -7.0120e-04,  9.3858e-07,  1.0453e-06,\n",
      "         -5.6466e-06, -1.1917e-03, -1.3272e-03,  7.1693e-03, -7.1971e-04,\n",
      "         -8.0154e-04,  4.3298e-03,  3.2494e-05,  3.6189e-05, -1.9549e-04],\n",
      "        [-3.4219e-04,  8.6959e-06,  8.9764e-05, -1.9855e-03,  5.0456e-05,\n",
      "          5.2084e-04,  2.7436e-03, -6.9721e-05, -7.1971e-04,  3.3086e-03,\n",
      "         -8.4080e-05, -8.6792e-04, -1.5747e-04,  4.0017e-06,  4.1308e-05],\n",
      "        [ 8.6959e-06, -4.4027e-04,  9.9971e-05,  5.0456e-05, -2.5546e-03,\n",
      "          5.8007e-04, -6.9721e-05,  3.5299e-03, -8.0154e-04, -8.4080e-05,\n",
      "          4.2569e-03, -9.6661e-04,  4.0017e-06, -2.0260e-04,  4.6004e-05],\n",
      "        [ 8.9764e-05,  9.9971e-05, -5.4003e-04,  5.2084e-04,  5.8007e-04,\n",
      "         -3.1334e-03, -7.1971e-04, -8.0154e-04,  4.3298e-03, -8.6792e-04,\n",
      "         -9.6661e-04,  5.2215e-03,  4.1308e-05,  4.6004e-05, -2.4851e-04],\n",
      "        [ 1.1326e-03, -2.8781e-05, -2.9710e-04, -1.4018e-03,  3.5622e-05,\n",
      "          3.6771e-04, -1.2387e-04,  3.1478e-06,  3.2494e-05, -1.5747e-04,\n",
      "          4.0017e-06,  4.1308e-05,  1.9519e-03, -4.9603e-05, -5.1204e-04],\n",
      "        [-2.8781e-05,  1.4572e-03, -3.3088e-04,  3.5622e-05, -1.8035e-03,\n",
      "          4.0953e-04,  3.1478e-06, -1.5937e-04,  3.6189e-05,  4.0017e-06,\n",
      "         -2.0260e-04,  4.6004e-05, -4.9603e-05,  2.5114e-03, -5.7026e-04],\n",
      "        [-2.9710e-04, -3.3088e-04,  1.7874e-03,  3.6771e-04,  4.0953e-04,\n",
      "         -2.2122e-03,  3.2494e-05,  3.6189e-05, -1.9549e-04,  4.1308e-05,\n",
      "          4.6004e-05, -2.4851e-04, -5.1204e-04, -5.7026e-04,  3.0804e-03]])\n"
     ]
    }
   ],
   "source": [
    "# Print results\n",
    "print(\"Covariance Matrix of Activations (A_KFAC):\")\n",
    "print(A_KFAC)\n",
    "\n",
    "print(\"\\nCovariance Matrix of Gradients (B_KFAC):\")\n",
    "print(B_KFAC)\n",
    "\n",
    "print(\"\\nKronecker product F:\")\n",
    "print(F)"
   ]
  },
  {
   "cell_type": "code",
   "execution_count": 10,
   "id": "ca5ccdc1",
   "metadata": {},
   "outputs": [
    {
     "name": "stdout",
     "output_type": "stream",
     "text": [
      "torch.Size([5, 5])\n",
      "torch.Size([3, 3])\n",
      "torch.Size([15, 15])\n"
     ]
    }
   ],
   "source": [
    "print(A_KFAC.shape)\n",
    "print(B_KFAC.shape)\n",
    "print(F.shape)"
   ]
  },
  {
   "cell_type": "code",
   "execution_count": null,
   "id": "8dea8aa1",
   "metadata": {},
   "outputs": [],
   "source": []
  }
 ],
 "metadata": {
  "kernelspec": {
   "display_name": "py-gpu",
   "language": "python",
   "name": "python3"
  },
  "language_info": {
   "codemirror_mode": {
    "name": "ipython",
    "version": 3
   },
   "file_extension": ".py",
   "mimetype": "text/x-python",
   "name": "python",
   "nbconvert_exporter": "python",
   "pygments_lexer": "ipython3",
   "version": "3.10.15"
  }
 },
 "nbformat": 4,
 "nbformat_minor": 5
}
